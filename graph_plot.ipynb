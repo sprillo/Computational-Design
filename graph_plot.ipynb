{
 "metadata": {
  "language_info": {
   "codemirror_mode": {
    "name": "ipython",
    "version": 3
   },
   "file_extension": ".py",
   "mimetype": "text/x-python",
   "name": "python",
   "nbconvert_exporter": "python",
   "pygments_lexer": "ipython3",
   "version": "3.8.3-final"
  },
  "orig_nbformat": 2,
  "kernelspec": {
   "name": "python3",
   "display_name": "Python 3.8.3 64-bit ('base': conda)",
   "metadata": {
    "interpreter": {
     "hash": "569d6b7e9215e11aba41c6454007e5c1b78bad7df09dab765d8cf00362c40f03"
    }
   }
  }
 },
 "nbformat": 4,
 "nbformat_minor": 2,
 "cells": [
  {
   "cell_type": "code",
   "execution_count": null,
   "metadata": {},
   "outputs": [],
   "source": [
    "import numpy as np\n",
    "import pandas as pd\n",
    "import matplotlib.pyplot as plt"
   ]
  },
  {
   "cell_type": "code",
   "execution_count": null,
   "metadata": {},
   "outputs": [],
   "source": [
    "def doit(N):\n",
    "    df = pd.read_csv(\"./src/graph_results.txt\")\n",
    "    df = df[df.N == N]\n",
    "    plt.plot(df.M, df.prob_design_success, color='blue')\n",
    "    plt.plot(df.M, df.prob_global_opt_success, color='red')\n",
    "    plt.plot(df.M, df.prob_fully_connected, color='black')\n",
    "    plt.vlines(df.N.iloc[0], ymin=0, ymax=1, ls='--', color='green')\n",
    "    plt.vlines(df.N.iloc[0] * np.log(df.N.iloc[0]), ymin=0, ymax=1, ls='--', color='orange')\n",
    "    plt.legend([\"Design\", \"Global Optimization\", \"Full Identification of $h$\", \"$n$\", \"$n\\ \\ln(n)$\"])\n",
    "    plt.ylabel(\"Probability of Success\")\n",
    "    plt.xlabel(\"Sample Size (m)\")\n",
    "    plt.title(f\"Results for N = {df.N.iloc[0]}\")\n",
    "    plt.xscale('log')\n",
    "    plt.savefig(f\"graph_plot_N_{N}.png\")\n",
    "    # plt.show()\n",
    "    plt.close()\n",
    "\n",
    "doit(100)\n",
    "doit(1000)\n",
    "doit(10000)"
   ]
  },
  {
   "cell_type": "code",
   "execution_count": null,
   "metadata": {},
   "outputs": [],
   "source": []
  }
 ]
}